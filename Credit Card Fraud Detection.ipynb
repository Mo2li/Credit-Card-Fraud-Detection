{
 "cells": [
  {
   "cell_type": "code",
   "execution_count": 1,
   "id": "2fbcdb01",
   "metadata": {},
   "outputs": [],
   "source": [
    "import numpy as np\n",
    "import pandas as pd\n",
    "import matplotlib.pyplot as plt\n",
    "import seaborn as sns\n",
    "%matplotlib inline\n",
    "sns.set()\n",
    "from sklearn.preprocessing import LabelEncoder\n"
   ]
  },
  {
   "cell_type": "code",
   "execution_count": 2,
   "id": "31f9228d",
   "metadata": {},
   "outputs": [
    {
     "data": {
      "text/html": [
       "<div>\n",
       "<style scoped>\n",
       "    .dataframe tbody tr th:only-of-type {\n",
       "        vertical-align: middle;\n",
       "    }\n",
       "\n",
       "    .dataframe tbody tr th {\n",
       "        vertical-align: top;\n",
       "    }\n",
       "\n",
       "    .dataframe thead th {\n",
       "        text-align: right;\n",
       "    }\n",
       "</style>\n",
       "<table border=\"1\" class=\"dataframe\">\n",
       "  <thead>\n",
       "    <tr style=\"text-align: right;\">\n",
       "      <th></th>\n",
       "      <th>step</th>\n",
       "      <th>customer</th>\n",
       "      <th>age</th>\n",
       "      <th>gender</th>\n",
       "      <th>zipcodeOri</th>\n",
       "      <th>merchant</th>\n",
       "      <th>zipMerchant</th>\n",
       "      <th>category</th>\n",
       "      <th>amount</th>\n",
       "      <th>fraud</th>\n",
       "    </tr>\n",
       "  </thead>\n",
       "  <tbody>\n",
       "    <tr>\n",
       "      <th>0</th>\n",
       "      <td>0</td>\n",
       "      <td>'C1093826151'</td>\n",
       "      <td>'4'</td>\n",
       "      <td>'M'</td>\n",
       "      <td>'28007'</td>\n",
       "      <td>'M348934600'</td>\n",
       "      <td>'28007'</td>\n",
       "      <td>'es_transportation'</td>\n",
       "      <td>4.55</td>\n",
       "      <td>0</td>\n",
       "    </tr>\n",
       "    <tr>\n",
       "      <th>1</th>\n",
       "      <td>0</td>\n",
       "      <td>'C352968107'</td>\n",
       "      <td>'2'</td>\n",
       "      <td>'M'</td>\n",
       "      <td>'28007'</td>\n",
       "      <td>'M348934600'</td>\n",
       "      <td>'28007'</td>\n",
       "      <td>'es_transportation'</td>\n",
       "      <td>39.68</td>\n",
       "      <td>0</td>\n",
       "    </tr>\n",
       "    <tr>\n",
       "      <th>2</th>\n",
       "      <td>0</td>\n",
       "      <td>'C2054744914'</td>\n",
       "      <td>'4'</td>\n",
       "      <td>'F'</td>\n",
       "      <td>'28007'</td>\n",
       "      <td>'M1823072687'</td>\n",
       "      <td>'28007'</td>\n",
       "      <td>'es_transportation'</td>\n",
       "      <td>26.89</td>\n",
       "      <td>0</td>\n",
       "    </tr>\n",
       "    <tr>\n",
       "      <th>3</th>\n",
       "      <td>0</td>\n",
       "      <td>'C1760612790'</td>\n",
       "      <td>'3'</td>\n",
       "      <td>'M'</td>\n",
       "      <td>'28007'</td>\n",
       "      <td>'M348934600'</td>\n",
       "      <td>'28007'</td>\n",
       "      <td>'es_transportation'</td>\n",
       "      <td>17.25</td>\n",
       "      <td>0</td>\n",
       "    </tr>\n",
       "    <tr>\n",
       "      <th>4</th>\n",
       "      <td>0</td>\n",
       "      <td>'C757503768'</td>\n",
       "      <td>'5'</td>\n",
       "      <td>'M'</td>\n",
       "      <td>'28007'</td>\n",
       "      <td>'M348934600'</td>\n",
       "      <td>'28007'</td>\n",
       "      <td>'es_transportation'</td>\n",
       "      <td>35.72</td>\n",
       "      <td>0</td>\n",
       "    </tr>\n",
       "  </tbody>\n",
       "</table>\n",
       "</div>"
      ],
      "text/plain": [
       "   step       customer  age gender zipcodeOri       merchant zipMerchant  \\\n",
       "0     0  'C1093826151'  '4'    'M'    '28007'   'M348934600'     '28007'   \n",
       "1     0   'C352968107'  '2'    'M'    '28007'   'M348934600'     '28007'   \n",
       "2     0  'C2054744914'  '4'    'F'    '28007'  'M1823072687'     '28007'   \n",
       "3     0  'C1760612790'  '3'    'M'    '28007'   'M348934600'     '28007'   \n",
       "4     0   'C757503768'  '5'    'M'    '28007'   'M348934600'     '28007'   \n",
       "\n",
       "              category  amount  fraud  \n",
       "0  'es_transportation'    4.55      0  \n",
       "1  'es_transportation'   39.68      0  \n",
       "2  'es_transportation'   26.89      0  \n",
       "3  'es_transportation'   17.25      0  \n",
       "4  'es_transportation'   35.72      0  "
      ]
     },
     "execution_count": 2,
     "metadata": {},
     "output_type": "execute_result"
    }
   ],
   "source": [
    "df = pd.read_csv(r\"D:\\AI & data\\data sets\\bs140513_032310.csv\")\n",
    "df.head()\n"
   ]
  },
  {
   "cell_type": "code",
   "execution_count": 3,
   "id": "3e90eaf7",
   "metadata": {},
   "outputs": [],
   "source": [
    "df['day_of_week'] = df['step'] % 7\n",
    "\n",
    "# هل يوم ويك إند؟\n",
    "df['is_weekend'] = df['day_of_week'].isin([5, 6]).astype(int)\n"
   ]
  },
  {
   "cell_type": "code",
   "execution_count": 4,
   "id": "fa0be088",
   "metadata": {},
   "outputs": [],
   "source": [
    "# حساب أعلى قيمة في amount\n",
    "max_amount = df['amount'].max()\n",
    "\n",
    "if max_amount <= 10000:\n",
    "    max_amount = 10001  \n",
    "# إنشاء الـ bins\n",
    "bins = [0, 100, 1000, 10000, max_amount]\n",
    "labels = ['low', 'medium', 'high', 'very_high']\n",
    "\n",
    "# التقسيم باستخدام pd.cut\n",
    "df['amount_bin'] = pd.cut(df['amount'], bins=bins, labels=labels, include_lowest=True)\n",
    "\n",
    "\n"
   ]
  },
  {
   "cell_type": "code",
   "execution_count": 5,
   "id": "737b7430",
   "metadata": {},
   "outputs": [
    {
     "name": "stdout",
     "output_type": "stream",
     "text": [
      "['low', 'medium', 'high']\n"
     ]
    }
   ],
   "source": [
    "print(df['amount_bin'].unique().tolist())\n"
   ]
  },
  {
   "cell_type": "code",
   "execution_count": 6,
   "id": "fb005891",
   "metadata": {},
   "outputs": [],
   "source": [
    "df['amount_bin'] = df['amount_bin'].astype(str).str.replace(\"'\", \"\").str.strip()\n",
    "\n",
    "#. تحويل القيم إلى أرقام \n",
    "df['amount_bin'] = df['amount_bin'].map({\n",
    "    'low': 0,\n",
    "    'medium': 1,\n",
    "    'high': 2\n",
    "})"
   ]
  },
  {
   "cell_type": "code",
   "execution_count": 7,
   "id": "41dcb7b9",
   "metadata": {},
   "outputs": [
    {
     "name": "stdout",
     "output_type": "stream",
     "text": [
      "[\"'M'\", \"'F'\", \"'E'\", \"'U'\"]\n"
     ]
    }
   ],
   "source": [
    "print(df['gender'].unique().tolist())\n"
   ]
  },
  {
   "cell_type": "code",
   "execution_count": 8,
   "id": "2752c6f8",
   "metadata": {},
   "outputs": [],
   "source": [
    "df['gender'] = df['gender'].astype(str).str.replace(\"'\", \"\").str.strip()\n",
    "\n",
    "# . تحويل القيم إلى أرقام مع اعتبار 'E' و 'U' كـ NaN\n",
    "df['gender'] = df['gender'].map({\n",
    "    'M': 0,\n",
    "    'F': 1,\n",
    "    'E': pd.NA,\n",
    "    'U': pd.NA\n",
    "})"
   ]
  },
  {
   "cell_type": "code",
   "execution_count": 9,
   "id": "2ed637da",
   "metadata": {},
   "outputs": [],
   "source": [
    "df['customer_txn_count'] = df.groupby('customer').cumcount() + 1\n"
   ]
  },
  {
   "cell_type": "code",
   "execution_count": 10,
   "id": "165f8700",
   "metadata": {},
   "outputs": [],
   "source": [
    "df.to_csv(\"banksim_extended.csv\", index=False)\n",
    "\n"
   ]
  },
  {
   "cell_type": "code",
   "execution_count": 11,
   "id": "353db0f5",
   "metadata": {},
   "outputs": [
    {
     "data": {
      "text/html": [
       "<div>\n",
       "<style scoped>\n",
       "    .dataframe tbody tr th:only-of-type {\n",
       "        vertical-align: middle;\n",
       "    }\n",
       "\n",
       "    .dataframe tbody tr th {\n",
       "        vertical-align: top;\n",
       "    }\n",
       "\n",
       "    .dataframe thead th {\n",
       "        text-align: right;\n",
       "    }\n",
       "</style>\n",
       "<table border=\"1\" class=\"dataframe\">\n",
       "  <thead>\n",
       "    <tr style=\"text-align: right;\">\n",
       "      <th></th>\n",
       "      <th>step</th>\n",
       "      <th>customer</th>\n",
       "      <th>age</th>\n",
       "      <th>gender</th>\n",
       "      <th>zipcodeOri</th>\n",
       "      <th>merchant</th>\n",
       "      <th>zipMerchant</th>\n",
       "      <th>category</th>\n",
       "      <th>amount</th>\n",
       "      <th>fraud</th>\n",
       "      <th>day_of_week</th>\n",
       "      <th>is_weekend</th>\n",
       "      <th>amount_bin</th>\n",
       "      <th>customer_txn_count</th>\n",
       "    </tr>\n",
       "  </thead>\n",
       "  <tbody>\n",
       "    <tr>\n",
       "      <th>0</th>\n",
       "      <td>0</td>\n",
       "      <td>'C1093826151'</td>\n",
       "      <td>'4'</td>\n",
       "      <td>0</td>\n",
       "      <td>'28007'</td>\n",
       "      <td>'M348934600'</td>\n",
       "      <td>'28007'</td>\n",
       "      <td>'es_transportation'</td>\n",
       "      <td>4.55</td>\n",
       "      <td>0</td>\n",
       "      <td>0</td>\n",
       "      <td>0</td>\n",
       "      <td>0</td>\n",
       "      <td>1</td>\n",
       "    </tr>\n",
       "    <tr>\n",
       "      <th>1</th>\n",
       "      <td>0</td>\n",
       "      <td>'C352968107'</td>\n",
       "      <td>'2'</td>\n",
       "      <td>0</td>\n",
       "      <td>'28007'</td>\n",
       "      <td>'M348934600'</td>\n",
       "      <td>'28007'</td>\n",
       "      <td>'es_transportation'</td>\n",
       "      <td>39.68</td>\n",
       "      <td>0</td>\n",
       "      <td>0</td>\n",
       "      <td>0</td>\n",
       "      <td>0</td>\n",
       "      <td>1</td>\n",
       "    </tr>\n",
       "    <tr>\n",
       "      <th>2</th>\n",
       "      <td>0</td>\n",
       "      <td>'C2054744914'</td>\n",
       "      <td>'4'</td>\n",
       "      <td>1</td>\n",
       "      <td>'28007'</td>\n",
       "      <td>'M1823072687'</td>\n",
       "      <td>'28007'</td>\n",
       "      <td>'es_transportation'</td>\n",
       "      <td>26.89</td>\n",
       "      <td>0</td>\n",
       "      <td>0</td>\n",
       "      <td>0</td>\n",
       "      <td>0</td>\n",
       "      <td>1</td>\n",
       "    </tr>\n",
       "    <tr>\n",
       "      <th>3</th>\n",
       "      <td>0</td>\n",
       "      <td>'C1760612790'</td>\n",
       "      <td>'3'</td>\n",
       "      <td>0</td>\n",
       "      <td>'28007'</td>\n",
       "      <td>'M348934600'</td>\n",
       "      <td>'28007'</td>\n",
       "      <td>'es_transportation'</td>\n",
       "      <td>17.25</td>\n",
       "      <td>0</td>\n",
       "      <td>0</td>\n",
       "      <td>0</td>\n",
       "      <td>0</td>\n",
       "      <td>1</td>\n",
       "    </tr>\n",
       "    <tr>\n",
       "      <th>4</th>\n",
       "      <td>0</td>\n",
       "      <td>'C757503768'</td>\n",
       "      <td>'5'</td>\n",
       "      <td>0</td>\n",
       "      <td>'28007'</td>\n",
       "      <td>'M348934600'</td>\n",
       "      <td>'28007'</td>\n",
       "      <td>'es_transportation'</td>\n",
       "      <td>35.72</td>\n",
       "      <td>0</td>\n",
       "      <td>0</td>\n",
       "      <td>0</td>\n",
       "      <td>0</td>\n",
       "      <td>1</td>\n",
       "    </tr>\n",
       "  </tbody>\n",
       "</table>\n",
       "</div>"
      ],
      "text/plain": [
       "   step       customer  age gender zipcodeOri       merchant zipMerchant  \\\n",
       "0     0  'C1093826151'  '4'      0    '28007'   'M348934600'     '28007'   \n",
       "1     0   'C352968107'  '2'      0    '28007'   'M348934600'     '28007'   \n",
       "2     0  'C2054744914'  '4'      1    '28007'  'M1823072687'     '28007'   \n",
       "3     0  'C1760612790'  '3'      0    '28007'   'M348934600'     '28007'   \n",
       "4     0   'C757503768'  '5'      0    '28007'   'M348934600'     '28007'   \n",
       "\n",
       "              category  amount  fraud  day_of_week  is_weekend  amount_bin  \\\n",
       "0  'es_transportation'    4.55      0            0           0           0   \n",
       "1  'es_transportation'   39.68      0            0           0           0   \n",
       "2  'es_transportation'   26.89      0            0           0           0   \n",
       "3  'es_transportation'   17.25      0            0           0           0   \n",
       "4  'es_transportation'   35.72      0            0           0           0   \n",
       "\n",
       "   customer_txn_count  \n",
       "0                   1  \n",
       "1                   1  \n",
       "2                   1  \n",
       "3                   1  \n",
       "4                   1  "
      ]
     },
     "execution_count": 11,
     "metadata": {},
     "output_type": "execute_result"
    }
   ],
   "source": [
    "df.head()"
   ]
  },
  {
   "cell_type": "code",
   "execution_count": 12,
   "id": "44e66e02",
   "metadata": {},
   "outputs": [
    {
     "data": {
      "text/html": [
       "<div>\n",
       "<style scoped>\n",
       "    .dataframe tbody tr th:only-of-type {\n",
       "        vertical-align: middle;\n",
       "    }\n",
       "\n",
       "    .dataframe tbody tr th {\n",
       "        vertical-align: top;\n",
       "    }\n",
       "\n",
       "    .dataframe thead th {\n",
       "        text-align: right;\n",
       "    }\n",
       "</style>\n",
       "<table border=\"1\" class=\"dataframe\">\n",
       "  <thead>\n",
       "    <tr style=\"text-align: right;\">\n",
       "      <th></th>\n",
       "      <th>step</th>\n",
       "      <th>day_of_week</th>\n",
       "      <th>is_weekend</th>\n",
       "      <th>customer</th>\n",
       "      <th>age</th>\n",
       "      <th>gender</th>\n",
       "      <th>zipcodeOri</th>\n",
       "      <th>merchant</th>\n",
       "      <th>zipMerchant</th>\n",
       "      <th>category</th>\n",
       "      <th>amount</th>\n",
       "      <th>customer_txn_count</th>\n",
       "      <th>amount_bin</th>\n",
       "      <th>fraud</th>\n",
       "    </tr>\n",
       "  </thead>\n",
       "  <tbody>\n",
       "    <tr>\n",
       "      <th>0</th>\n",
       "      <td>0</td>\n",
       "      <td>0</td>\n",
       "      <td>0</td>\n",
       "      <td>'C1093826151'</td>\n",
       "      <td>'4'</td>\n",
       "      <td>0</td>\n",
       "      <td>'28007'</td>\n",
       "      <td>'M348934600'</td>\n",
       "      <td>'28007'</td>\n",
       "      <td>'es_transportation'</td>\n",
       "      <td>4.55</td>\n",
       "      <td>1</td>\n",
       "      <td>0</td>\n",
       "      <td>0</td>\n",
       "    </tr>\n",
       "    <tr>\n",
       "      <th>1</th>\n",
       "      <td>0</td>\n",
       "      <td>0</td>\n",
       "      <td>0</td>\n",
       "      <td>'C352968107'</td>\n",
       "      <td>'2'</td>\n",
       "      <td>0</td>\n",
       "      <td>'28007'</td>\n",
       "      <td>'M348934600'</td>\n",
       "      <td>'28007'</td>\n",
       "      <td>'es_transportation'</td>\n",
       "      <td>39.68</td>\n",
       "      <td>1</td>\n",
       "      <td>0</td>\n",
       "      <td>0</td>\n",
       "    </tr>\n",
       "    <tr>\n",
       "      <th>2</th>\n",
       "      <td>0</td>\n",
       "      <td>0</td>\n",
       "      <td>0</td>\n",
       "      <td>'C2054744914'</td>\n",
       "      <td>'4'</td>\n",
       "      <td>1</td>\n",
       "      <td>'28007'</td>\n",
       "      <td>'M1823072687'</td>\n",
       "      <td>'28007'</td>\n",
       "      <td>'es_transportation'</td>\n",
       "      <td>26.89</td>\n",
       "      <td>1</td>\n",
       "      <td>0</td>\n",
       "      <td>0</td>\n",
       "    </tr>\n",
       "    <tr>\n",
       "      <th>3</th>\n",
       "      <td>0</td>\n",
       "      <td>0</td>\n",
       "      <td>0</td>\n",
       "      <td>'C1760612790'</td>\n",
       "      <td>'3'</td>\n",
       "      <td>0</td>\n",
       "      <td>'28007'</td>\n",
       "      <td>'M348934600'</td>\n",
       "      <td>'28007'</td>\n",
       "      <td>'es_transportation'</td>\n",
       "      <td>17.25</td>\n",
       "      <td>1</td>\n",
       "      <td>0</td>\n",
       "      <td>0</td>\n",
       "    </tr>\n",
       "    <tr>\n",
       "      <th>4</th>\n",
       "      <td>0</td>\n",
       "      <td>0</td>\n",
       "      <td>0</td>\n",
       "      <td>'C757503768'</td>\n",
       "      <td>'5'</td>\n",
       "      <td>0</td>\n",
       "      <td>'28007'</td>\n",
       "      <td>'M348934600'</td>\n",
       "      <td>'28007'</td>\n",
       "      <td>'es_transportation'</td>\n",
       "      <td>35.72</td>\n",
       "      <td>1</td>\n",
       "      <td>0</td>\n",
       "      <td>0</td>\n",
       "    </tr>\n",
       "  </tbody>\n",
       "</table>\n",
       "</div>"
      ],
      "text/plain": [
       "   step  day_of_week  is_weekend       customer  age gender zipcodeOri  \\\n",
       "0     0            0           0  'C1093826151'  '4'      0    '28007'   \n",
       "1     0            0           0   'C352968107'  '2'      0    '28007'   \n",
       "2     0            0           0  'C2054744914'  '4'      1    '28007'   \n",
       "3     0            0           0  'C1760612790'  '3'      0    '28007'   \n",
       "4     0            0           0   'C757503768'  '5'      0    '28007'   \n",
       "\n",
       "        merchant zipMerchant             category  amount  customer_txn_count  \\\n",
       "0   'M348934600'     '28007'  'es_transportation'    4.55                   1   \n",
       "1   'M348934600'     '28007'  'es_transportation'   39.68                   1   \n",
       "2  'M1823072687'     '28007'  'es_transportation'   26.89                   1   \n",
       "3   'M348934600'     '28007'  'es_transportation'   17.25                   1   \n",
       "4   'M348934600'     '28007'  'es_transportation'   35.72                   1   \n",
       "\n",
       "   amount_bin  fraud  \n",
       "0           0      0  \n",
       "1           0      0  \n",
       "2           0      0  \n",
       "3           0      0  \n",
       "4           0      0  "
      ]
     },
     "execution_count": 12,
     "metadata": {},
     "output_type": "execute_result"
    }
   ],
   "source": [
    "# ترتيب الأعمدة حسب طلبك\n",
    "ordered_columns = [\n",
    "    'step',\n",
    "    'day_of_week',\n",
    "    'is_weekend',\n",
    "    'customer',\n",
    "    'age',\n",
    "    'gender',\n",
    "    'zipcodeOri',\n",
    "    'merchant',\n",
    "    'zipMerchant',\n",
    "    'category',\n",
    "    'amount',\n",
    "    'customer_txn_count',\n",
    "    'amount_bin',\n",
    "    'fraud'\n",
    "]\n",
    "\n",
    "df = df[ordered_columns]\n",
    "\n",
    "df.head()\n"
   ]
  },
  {
   "cell_type": "code",
   "execution_count": null,
   "id": "78e53580",
   "metadata": {},
   "outputs": [],
   "source": []
  },
  {
   "cell_type": "code",
   "execution_count": 13,
   "id": "07c2aded",
   "metadata": {},
   "outputs": [
    {
     "name": "stdout",
     "output_type": "stream",
     "text": [
      "[\"'4'\", \"'2'\", \"'3'\", \"'5'\", \"'1'\", \"'6'\", \"'U'\", \"'0'\"]\n"
     ]
    }
   ],
   "source": [
    "print(df['age'].unique().tolist())\n"
   ]
  },
  {
   "cell_type": "code",
   "execution_count": 14,
   "id": "3f7b7837",
   "metadata": {},
   "outputs": [],
   "source": [
    "df['age'] = df['age'].astype(str).str.replace(\"'\", \"\").str.strip()\n",
    "\n",
    "df['age'] = pd.to_numeric(df['age'], errors='coerce')\n",
    "\n",
    "age_map = {\n",
    "    1: 20,\n",
    "    2: 30,\n",
    "    3: 40,\n",
    "    4: 50,\n",
    "    5: 60\n",
    "}\n",
    "\n",
    "df['age'] = df['age'].map(age_map)\n",
    "\n",
    "\n"
   ]
  },
  {
   "cell_type": "code",
   "execution_count": 15,
   "id": "286bf6e6",
   "metadata": {},
   "outputs": [
    {
     "data": {
      "text/html": [
       "<div>\n",
       "<style scoped>\n",
       "    .dataframe tbody tr th:only-of-type {\n",
       "        vertical-align: middle;\n",
       "    }\n",
       "\n",
       "    .dataframe tbody tr th {\n",
       "        vertical-align: top;\n",
       "    }\n",
       "\n",
       "    .dataframe thead th {\n",
       "        text-align: right;\n",
       "    }\n",
       "</style>\n",
       "<table border=\"1\" class=\"dataframe\">\n",
       "  <thead>\n",
       "    <tr style=\"text-align: right;\">\n",
       "      <th></th>\n",
       "      <th>step</th>\n",
       "      <th>day_of_week</th>\n",
       "      <th>is_weekend</th>\n",
       "      <th>customer</th>\n",
       "      <th>age</th>\n",
       "      <th>gender</th>\n",
       "      <th>zipcodeOri</th>\n",
       "      <th>merchant</th>\n",
       "      <th>zipMerchant</th>\n",
       "      <th>category</th>\n",
       "      <th>amount</th>\n",
       "      <th>customer_txn_count</th>\n",
       "      <th>amount_bin</th>\n",
       "      <th>fraud</th>\n",
       "    </tr>\n",
       "  </thead>\n",
       "  <tbody>\n",
       "    <tr>\n",
       "      <th>0</th>\n",
       "      <td>0</td>\n",
       "      <td>0</td>\n",
       "      <td>0</td>\n",
       "      <td>'C1093826151'</td>\n",
       "      <td>50.0</td>\n",
       "      <td>0</td>\n",
       "      <td>'28007'</td>\n",
       "      <td>'M348934600'</td>\n",
       "      <td>'28007'</td>\n",
       "      <td>'es_transportation'</td>\n",
       "      <td>4.55</td>\n",
       "      <td>1</td>\n",
       "      <td>0</td>\n",
       "      <td>0</td>\n",
       "    </tr>\n",
       "    <tr>\n",
       "      <th>1</th>\n",
       "      <td>0</td>\n",
       "      <td>0</td>\n",
       "      <td>0</td>\n",
       "      <td>'C352968107'</td>\n",
       "      <td>30.0</td>\n",
       "      <td>0</td>\n",
       "      <td>'28007'</td>\n",
       "      <td>'M348934600'</td>\n",
       "      <td>'28007'</td>\n",
       "      <td>'es_transportation'</td>\n",
       "      <td>39.68</td>\n",
       "      <td>1</td>\n",
       "      <td>0</td>\n",
       "      <td>0</td>\n",
       "    </tr>\n",
       "    <tr>\n",
       "      <th>2</th>\n",
       "      <td>0</td>\n",
       "      <td>0</td>\n",
       "      <td>0</td>\n",
       "      <td>'C2054744914'</td>\n",
       "      <td>50.0</td>\n",
       "      <td>1</td>\n",
       "      <td>'28007'</td>\n",
       "      <td>'M1823072687'</td>\n",
       "      <td>'28007'</td>\n",
       "      <td>'es_transportation'</td>\n",
       "      <td>26.89</td>\n",
       "      <td>1</td>\n",
       "      <td>0</td>\n",
       "      <td>0</td>\n",
       "    </tr>\n",
       "    <tr>\n",
       "      <th>3</th>\n",
       "      <td>0</td>\n",
       "      <td>0</td>\n",
       "      <td>0</td>\n",
       "      <td>'C1760612790'</td>\n",
       "      <td>40.0</td>\n",
       "      <td>0</td>\n",
       "      <td>'28007'</td>\n",
       "      <td>'M348934600'</td>\n",
       "      <td>'28007'</td>\n",
       "      <td>'es_transportation'</td>\n",
       "      <td>17.25</td>\n",
       "      <td>1</td>\n",
       "      <td>0</td>\n",
       "      <td>0</td>\n",
       "    </tr>\n",
       "    <tr>\n",
       "      <th>4</th>\n",
       "      <td>0</td>\n",
       "      <td>0</td>\n",
       "      <td>0</td>\n",
       "      <td>'C757503768'</td>\n",
       "      <td>60.0</td>\n",
       "      <td>0</td>\n",
       "      <td>'28007'</td>\n",
       "      <td>'M348934600'</td>\n",
       "      <td>'28007'</td>\n",
       "      <td>'es_transportation'</td>\n",
       "      <td>35.72</td>\n",
       "      <td>1</td>\n",
       "      <td>0</td>\n",
       "      <td>0</td>\n",
       "    </tr>\n",
       "  </tbody>\n",
       "</table>\n",
       "</div>"
      ],
      "text/plain": [
       "   step  day_of_week  is_weekend       customer   age gender zipcodeOri  \\\n",
       "0     0            0           0  'C1093826151'  50.0      0    '28007'   \n",
       "1     0            0           0   'C352968107'  30.0      0    '28007'   \n",
       "2     0            0           0  'C2054744914'  50.0      1    '28007'   \n",
       "3     0            0           0  'C1760612790'  40.0      0    '28007'   \n",
       "4     0            0           0   'C757503768'  60.0      0    '28007'   \n",
       "\n",
       "        merchant zipMerchant             category  amount  customer_txn_count  \\\n",
       "0   'M348934600'     '28007'  'es_transportation'    4.55                   1   \n",
       "1   'M348934600'     '28007'  'es_transportation'   39.68                   1   \n",
       "2  'M1823072687'     '28007'  'es_transportation'   26.89                   1   \n",
       "3   'M348934600'     '28007'  'es_transportation'   17.25                   1   \n",
       "4   'M348934600'     '28007'  'es_transportation'   35.72                   1   \n",
       "\n",
       "   amount_bin  fraud  \n",
       "0           0      0  \n",
       "1           0      0  \n",
       "2           0      0  \n",
       "3           0      0  \n",
       "4           0      0  "
      ]
     },
     "execution_count": 15,
     "metadata": {},
     "output_type": "execute_result"
    }
   ],
   "source": [
    "df.head()"
   ]
  },
  {
   "cell_type": "code",
   "execution_count": 16,
   "id": "ec5dc05c",
   "metadata": {},
   "outputs": [
    {
     "data": {
      "text/plain": [
       "step                      0\n",
       "day_of_week               0\n",
       "is_weekend                0\n",
       "customer                  0\n",
       "age                   30404\n",
       "gender                 1693\n",
       "zipcodeOri                0\n",
       "merchant                  0\n",
       "zipMerchant               0\n",
       "category                  0\n",
       "amount                    0\n",
       "customer_txn_count        0\n",
       "amount_bin                0\n",
       "fraud                     0\n",
       "dtype: int64"
      ]
     },
     "execution_count": 16,
     "metadata": {},
     "output_type": "execute_result"
    }
   ],
   "source": [
    "df.replace('-', pd.NA, inplace=True)\n",
    "df.isna().sum()"
   ]
  },
  {
   "cell_type": "code",
   "execution_count": 17,
   "id": "008ca16f",
   "metadata": {},
   "outputs": [
    {
     "data": {
      "text/plain": [
       "<Axes: >"
      ]
     },
     "execution_count": 17,
     "metadata": {},
     "output_type": "execute_result"
    },
    {
     "data": {
      "image/png": "[encoded data removed]",
      "text/plain": [
       "<Figure size 700x400 with 1 Axes>"
      ]
     },
     "metadata": {},
     "output_type": "display_data"
    }
   ],
   "source": [
    "plt.figure(figsize=(7,4),edgecolor='black', linewidth=1)\n",
    "sns.heatmap(df.isna(),yticklabels=False,cbar=False,cmap='Blues')"
   ]
  },
  {
   "cell_type": "code",
   "execution_count": 18,
   "id": "72b2a3bf",
   "metadata": {},
   "outputs": [],
   "source": [
    "mean_gender = df['gender'].mean()\n",
    "df['gender'] = df['gender'].fillna(mean_gender)"
   ]
  },
  {
   "cell_type": "code",
   "execution_count": 19,
   "id": "e639009f",
   "metadata": {},
   "outputs": [],
   "source": [
    "mean_age = df['age'].mean()\n",
    "df['age'] = df['age'].fillna(mean_age)"
   ]
  },
  {
   "cell_type": "code",
   "execution_count": 20,
   "id": "72200edb",
   "metadata": {},
   "outputs": [
    {
     "data": {
      "text/plain": [
       "step                  0\n",
       "day_of_week           0\n",
       "is_weekend            0\n",
       "customer              0\n",
       "age                   0\n",
       "gender                0\n",
       "zipcodeOri            0\n",
       "merchant              0\n",
       "zipMerchant           0\n",
       "category              0\n",
       "amount                0\n",
       "customer_txn_count    0\n",
       "amount_bin            0\n",
       "fraud                 0\n",
       "dtype: int64"
      ]
     },
     "execution_count": 20,
     "metadata": {},
     "output_type": "execute_result"
    }
   ],
   "source": [
    "df.isna().sum()"
   ]
  },
  {
   "cell_type": "code",
   "execution_count": 21,
   "id": "2760daf5",
   "metadata": {},
   "outputs": [
    {
     "data": {
      "text/plain": [
       "0         False\n",
       "1         False\n",
       "2         False\n",
       "3         False\n",
       "4         False\n",
       "          ...  \n",
       "594638    False\n",
       "594639    False\n",
       "594640    False\n",
       "594641    False\n",
       "594642    False\n",
       "Length: 594643, dtype: bool"
      ]
     },
     "execution_count": 21,
     "metadata": {},
     "output_type": "execute_result"
    }
   ],
   "source": [
    "df.duplicated(subset=None)"
   ]
  },
  {
   "cell_type": "code",
   "execution_count": 22,
   "id": "c2b70bf4",
   "metadata": {},
   "outputs": [
    {
     "data": {
      "text/html": [
       "<div>\n",
       "<style scoped>\n",
       "    .dataframe tbody tr th:only-of-type {\n",
       "        vertical-align: middle;\n",
       "    }\n",
       "\n",
       "    .dataframe tbody tr th {\n",
       "        vertical-align: top;\n",
       "    }\n",
       "\n",
       "    .dataframe thead th {\n",
       "        text-align: right;\n",
       "    }\n",
       "</style>\n",
       "<table border=\"1\" class=\"dataframe\">\n",
       "  <thead>\n",
       "    <tr style=\"text-align: right;\">\n",
       "      <th></th>\n",
       "      <th>step</th>\n",
       "      <th>day_of_week</th>\n",
       "      <th>is_weekend</th>\n",
       "      <th>customer</th>\n",
       "      <th>age</th>\n",
       "      <th>gender</th>\n",
       "      <th>zipcodeOri</th>\n",
       "      <th>merchant</th>\n",
       "      <th>zipMerchant</th>\n",
       "      <th>category</th>\n",
       "      <th>amount</th>\n",
       "      <th>customer_txn_count</th>\n",
       "      <th>amount_bin</th>\n",
       "      <th>fraud</th>\n",
       "    </tr>\n",
       "  </thead>\n",
       "  <tbody>\n",
       "    <tr>\n",
       "      <th>0</th>\n",
       "      <td>0</td>\n",
       "      <td>0</td>\n",
       "      <td>0</td>\n",
       "      <td>'C1093826151'</td>\n",
       "      <td>50</td>\n",
       "      <td>0</td>\n",
       "      <td>'28007'</td>\n",
       "      <td>'M348934600'</td>\n",
       "      <td>'28007'</td>\n",
       "      <td>'es_transportation'</td>\n",
       "      <td>4.55</td>\n",
       "      <td>1</td>\n",
       "      <td>0</td>\n",
       "      <td>0</td>\n",
       "    </tr>\n",
       "    <tr>\n",
       "      <th>1</th>\n",
       "      <td>0</td>\n",
       "      <td>0</td>\n",
       "      <td>0</td>\n",
       "      <td>'C352968107'</td>\n",
       "      <td>30</td>\n",
       "      <td>0</td>\n",
       "      <td>'28007'</td>\n",
       "      <td>'M348934600'</td>\n",
       "      <td>'28007'</td>\n",
       "      <td>'es_transportation'</td>\n",
       "      <td>39.68</td>\n",
       "      <td>1</td>\n",
       "      <td>0</td>\n",
       "      <td>0</td>\n",
       "    </tr>\n",
       "    <tr>\n",
       "      <th>2</th>\n",
       "      <td>0</td>\n",
       "      <td>0</td>\n",
       "      <td>0</td>\n",
       "      <td>'C2054744914'</td>\n",
       "      <td>50</td>\n",
       "      <td>1</td>\n",
       "      <td>'28007'</td>\n",
       "      <td>'M1823072687'</td>\n",
       "      <td>'28007'</td>\n",
       "      <td>'es_transportation'</td>\n",
       "      <td>26.89</td>\n",
       "      <td>1</td>\n",
       "      <td>0</td>\n",
       "      <td>0</td>\n",
       "    </tr>\n",
       "    <tr>\n",
       "      <th>3</th>\n",
       "      <td>0</td>\n",
       "      <td>0</td>\n",
       "      <td>0</td>\n",
       "      <td>'C1760612790'</td>\n",
       "      <td>40</td>\n",
       "      <td>0</td>\n",
       "      <td>'28007'</td>\n",
       "      <td>'M348934600'</td>\n",
       "      <td>'28007'</td>\n",
       "      <td>'es_transportation'</td>\n",
       "      <td>17.25</td>\n",
       "      <td>1</td>\n",
       "      <td>0</td>\n",
       "      <td>0</td>\n",
       "    </tr>\n",
       "    <tr>\n",
       "      <th>4</th>\n",
       "      <td>0</td>\n",
       "      <td>0</td>\n",
       "      <td>0</td>\n",
       "      <td>'C757503768'</td>\n",
       "      <td>60</td>\n",
       "      <td>0</td>\n",
       "      <td>'28007'</td>\n",
       "      <td>'M348934600'</td>\n",
       "      <td>'28007'</td>\n",
       "      <td>'es_transportation'</td>\n",
       "      <td>35.72</td>\n",
       "      <td>1</td>\n",
       "      <td>0</td>\n",
       "      <td>0</td>\n",
       "    </tr>\n",
       "  </tbody>\n",
       "</table>\n",
       "</div>"
      ],
      "text/plain": [
       "   step  day_of_week  is_weekend       customer  age  gender zipcodeOri  \\\n",
       "0     0            0           0  'C1093826151'   50       0    '28007'   \n",
       "1     0            0           0   'C352968107'   30       0    '28007'   \n",
       "2     0            0           0  'C2054744914'   50       1    '28007'   \n",
       "3     0            0           0  'C1760612790'   40       0    '28007'   \n",
       "4     0            0           0   'C757503768'   60       0    '28007'   \n",
       "\n",
       "        merchant zipMerchant             category  amount  customer_txn_count  \\\n",
       "0   'M348934600'     '28007'  'es_transportation'    4.55                   1   \n",
       "1   'M348934600'     '28007'  'es_transportation'   39.68                   1   \n",
       "2  'M1823072687'     '28007'  'es_transportation'   26.89                   1   \n",
       "3   'M348934600'     '28007'  'es_transportation'   17.25                   1   \n",
       "4   'M348934600'     '28007'  'es_transportation'   35.72                   1   \n",
       "\n",
       "   amount_bin  fraud  \n",
       "0           0      0  \n",
       "1           0      0  \n",
       "2           0      0  \n",
       "3           0      0  \n",
       "4           0      0  "
      ]
     },
     "execution_count": 22,
     "metadata": {},
     "output_type": "execute_result"
    }
   ],
   "source": [
    "df['gender'] = df['gender'].astype('int64')\n",
    "df['age'] = df['age'].astype('int64')\n",
    "\n",
    "df.head()"
   ]
  },
  {
   "cell_type": "code",
   "execution_count": 23,
   "id": "3c1ba4ec",
   "metadata": {},
   "outputs": [
    {
     "data": {
      "text/html": [
       "<div>\n",
       "<style scoped>\n",
       "    .dataframe tbody tr th:only-of-type {\n",
       "        vertical-align: middle;\n",
       "    }\n",
       "\n",
       "    .dataframe tbody tr th {\n",
       "        vertical-align: top;\n",
       "    }\n",
       "\n",
       "    .dataframe thead th {\n",
       "        text-align: right;\n",
       "    }\n",
       "</style>\n",
       "<table border=\"1\" class=\"dataframe\">\n",
       "  <thead>\n",
       "    <tr style=\"text-align: right;\">\n",
       "      <th></th>\n",
       "      <th>step</th>\n",
       "      <th>day_of_week</th>\n",
       "      <th>is_weekend</th>\n",
       "      <th>customer</th>\n",
       "      <th>age</th>\n",
       "      <th>gender</th>\n",
       "      <th>zipcodeOri</th>\n",
       "      <th>merchant</th>\n",
       "      <th>zipMerchant</th>\n",
       "      <th>category</th>\n",
       "      <th>amount</th>\n",
       "      <th>customer_txn_count</th>\n",
       "      <th>amount_bin</th>\n",
       "      <th>fraud</th>\n",
       "    </tr>\n",
       "  </thead>\n",
       "  <tbody>\n",
       "    <tr>\n",
       "      <th>594638</th>\n",
       "      <td>179</td>\n",
       "      <td>4</td>\n",
       "      <td>0</td>\n",
       "      <td>'C1753498738'</td>\n",
       "      <td>40</td>\n",
       "      <td>1</td>\n",
       "      <td>'28007'</td>\n",
       "      <td>'M1823072687'</td>\n",
       "      <td>'28007'</td>\n",
       "      <td>'es_transportation'</td>\n",
       "      <td>20.53</td>\n",
       "      <td>184</td>\n",
       "      <td>0</td>\n",
       "      <td>0</td>\n",
       "    </tr>\n",
       "    <tr>\n",
       "      <th>594639</th>\n",
       "      <td>179</td>\n",
       "      <td>4</td>\n",
       "      <td>0</td>\n",
       "      <td>'C650108285'</td>\n",
       "      <td>50</td>\n",
       "      <td>1</td>\n",
       "      <td>'28007'</td>\n",
       "      <td>'M1823072687'</td>\n",
       "      <td>'28007'</td>\n",
       "      <td>'es_transportation'</td>\n",
       "      <td>50.73</td>\n",
       "      <td>172</td>\n",
       "      <td>0</td>\n",
       "      <td>0</td>\n",
       "    </tr>\n",
       "    <tr>\n",
       "      <th>594640</th>\n",
       "      <td>179</td>\n",
       "      <td>4</td>\n",
       "      <td>0</td>\n",
       "      <td>'C123623130'</td>\n",
       "      <td>30</td>\n",
       "      <td>1</td>\n",
       "      <td>'28007'</td>\n",
       "      <td>'M349281107'</td>\n",
       "      <td>'28007'</td>\n",
       "      <td>'es_fashion'</td>\n",
       "      <td>22.44</td>\n",
       "      <td>168</td>\n",
       "      <td>0</td>\n",
       "      <td>0</td>\n",
       "    </tr>\n",
       "    <tr>\n",
       "      <th>594641</th>\n",
       "      <td>179</td>\n",
       "      <td>4</td>\n",
       "      <td>0</td>\n",
       "      <td>'C1499363341'</td>\n",
       "      <td>60</td>\n",
       "      <td>0</td>\n",
       "      <td>'28007'</td>\n",
       "      <td>'M1823072687'</td>\n",
       "      <td>'28007'</td>\n",
       "      <td>'es_transportation'</td>\n",
       "      <td>14.46</td>\n",
       "      <td>165</td>\n",
       "      <td>0</td>\n",
       "      <td>0</td>\n",
       "    </tr>\n",
       "    <tr>\n",
       "      <th>594642</th>\n",
       "      <td>179</td>\n",
       "      <td>4</td>\n",
       "      <td>0</td>\n",
       "      <td>'C616528518'</td>\n",
       "      <td>50</td>\n",
       "      <td>1</td>\n",
       "      <td>'28007'</td>\n",
       "      <td>'M1823072687'</td>\n",
       "      <td>'28007'</td>\n",
       "      <td>'es_transportation'</td>\n",
       "      <td>26.93</td>\n",
       "      <td>120</td>\n",
       "      <td>0</td>\n",
       "      <td>0</td>\n",
       "    </tr>\n",
       "  </tbody>\n",
       "</table>\n",
       "</div>"
      ],
      "text/plain": [
       "        step  day_of_week  is_weekend       customer  age  gender zipcodeOri  \\\n",
       "594638   179            4           0  'C1753498738'   40       1    '28007'   \n",
       "594639   179            4           0   'C650108285'   50       1    '28007'   \n",
       "594640   179            4           0   'C123623130'   30       1    '28007'   \n",
       "594641   179            4           0  'C1499363341'   60       0    '28007'   \n",
       "594642   179            4           0   'C616528518'   50       1    '28007'   \n",
       "\n",
       "             merchant zipMerchant             category  amount  \\\n",
       "594638  'M1823072687'     '28007'  'es_transportation'   20.53   \n",
       "594639  'M1823072687'     '28007'  'es_transportation'   50.73   \n",
       "594640   'M349281107'     '28007'         'es_fashion'   22.44   \n",
       "594641  'M1823072687'     '28007'  'es_transportation'   14.46   \n",
       "594642  'M1823072687'     '28007'  'es_transportation'   26.93   \n",
       "\n",
       "        customer_txn_count  amount_bin  fraud  \n",
       "594638                 184           0      0  \n",
       "594639                 172           0      0  \n",
       "594640                 168           0      0  \n",
       "594641                 165           0      0  \n",
       "594642                 120           0      0  "
      ]
     },
     "execution_count": 23,
     "metadata": {},
     "output_type": "execute_result"
    }
   ],
   "source": [
    "df.tail()"
   ]
  },
  {
   "cell_type": "code",
   "execution_count": 24,
   "id": "97f5388d",
   "metadata": {},
   "outputs": [
    {
     "name": "stdout",
     "output_type": "stream",
     "text": [
      "<class 'pandas.core.frame.DataFrame'>\n",
      "RangeIndex: 594643 entries, 0 to 594642\n",
      "Data columns (total 14 columns):\n",
      " #   Column              Non-Null Count   Dtype  \n",
      "---  ------              --------------   -----  \n",
      " 0   step                594643 non-null  int64  \n",
      " 1   day_of_week         594643 non-null  int64  \n",
      " 2   is_weekend          594643 non-null  int32  \n",
      " 3   customer            594643 non-null  object \n",
      " 4   age                 594643 non-null  int64  \n",
      " 5   gender              594643 non-null  int64  \n",
      " 6   zipcodeOri          594643 non-null  object \n",
      " 7   merchant            594643 non-null  object \n",
      " 8   zipMerchant         594643 non-null  object \n",
      " 9   category            594643 non-null  object \n",
      " 10  amount              594643 non-null  float64\n",
      " 11  customer_txn_count  594643 non-null  int64  \n",
      " 12  amount_bin          594643 non-null  int64  \n",
      " 13  fraud               594643 non-null  int64  \n",
      "dtypes: float64(1), int32(1), int64(7), object(5)\n",
      "memory usage: 61.2+ MB\n"
     ]
    }
   ],
   "source": [
    "df.info()"
   ]
  },
  {
   "cell_type": "code",
   "execution_count": 25,
   "id": "39024f2f",
   "metadata": {},
   "outputs": [
    {
     "data": {
      "text/html": [
       "<div>\n",
       "<style scoped>\n",
       "    .dataframe tbody tr th:only-of-type {\n",
       "        vertical-align: middle;\n",
       "    }\n",
       "\n",
       "    .dataframe tbody tr th {\n",
       "        vertical-align: top;\n",
       "    }\n",
       "\n",
       "    .dataframe thead th {\n",
       "        text-align: right;\n",
       "    }\n",
       "</style>\n",
       "<table border=\"1\" class=\"dataframe\">\n",
       "  <thead>\n",
       "    <tr style=\"text-align: right;\">\n",
       "      <th></th>\n",
       "      <th>step</th>\n",
       "      <th>day_of_week</th>\n",
       "      <th>is_weekend</th>\n",
       "      <th>age</th>\n",
       "      <th>gender</th>\n",
       "      <th>amount</th>\n",
       "      <th>customer_txn_count</th>\n",
       "      <th>amount_bin</th>\n",
       "      <th>fraud</th>\n",
       "    </tr>\n",
       "  </thead>\n",
       "  <tbody>\n",
       "    <tr>\n",
       "      <th>step</th>\n",
       "      <td>1.000000</td>\n",
       "      <td>0.010020</td>\n",
       "      <td>-0.004615</td>\n",
       "      <td>0.001676</td>\n",
       "      <td>0.000294</td>\n",
       "      <td>-0.007961</td>\n",
       "      <td>0.873345</td>\n",
       "      <td>-0.005874</td>\n",
       "      <td>-0.011898</td>\n",
       "    </tr>\n",
       "    <tr>\n",
       "      <th>day_of_week</th>\n",
       "      <td>0.010020</td>\n",
       "      <td>1.000000</td>\n",
       "      <td>0.786673</td>\n",
       "      <td>-0.000008</td>\n",
       "      <td>0.000494</td>\n",
       "      <td>0.000341</td>\n",
       "      <td>0.008726</td>\n",
       "      <td>-0.000881</td>\n",
       "      <td>-0.000341</td>\n",
       "    </tr>\n",
       "    <tr>\n",
       "      <th>is_weekend</th>\n",
       "      <td>-0.004615</td>\n",
       "      <td>0.786673</td>\n",
       "      <td>1.000000</td>\n",
       "      <td>0.000223</td>\n",
       "      <td>0.000230</td>\n",
       "      <td>0.001262</td>\n",
       "      <td>-0.004055</td>\n",
       "      <td>0.000578</td>\n",
       "      <td>-0.000194</td>\n",
       "    </tr>\n",
       "    <tr>\n",
       "      <th>age</th>\n",
       "      <td>0.001676</td>\n",
       "      <td>-0.000008</td>\n",
       "      <td>0.000223</td>\n",
       "      <td>1.000000</td>\n",
       "      <td>-0.016650</td>\n",
       "      <td>-0.002570</td>\n",
       "      <td>0.001627</td>\n",
       "      <td>-0.002213</td>\n",
       "      <td>-0.001228</td>\n",
       "    </tr>\n",
       "    <tr>\n",
       "      <th>gender</th>\n",
       "      <td>0.000294</td>\n",
       "      <td>0.000494</td>\n",
       "      <td>0.000230</td>\n",
       "      <td>-0.016650</td>\n",
       "      <td>1.000000</td>\n",
       "      <td>0.013018</td>\n",
       "      <td>-0.002662</td>\n",
       "      <td>0.016253</td>\n",
       "      <td>0.025575</td>\n",
       "    </tr>\n",
       "    <tr>\n",
       "      <th>amount</th>\n",
       "      <td>-0.007961</td>\n",
       "      <td>0.000341</td>\n",
       "      <td>0.001262</td>\n",
       "      <td>-0.002570</td>\n",
       "      <td>0.013018</td>\n",
       "      <td>1.000000</td>\n",
       "      <td>-0.041587</td>\n",
       "      <td>0.553488</td>\n",
       "      <td>0.489967</td>\n",
       "    </tr>\n",
       "    <tr>\n",
       "      <th>customer_txn_count</th>\n",
       "      <td>0.873345</td>\n",
       "      <td>0.008726</td>\n",
       "      <td>-0.004055</td>\n",
       "      <td>0.001627</td>\n",
       "      <td>-0.002662</td>\n",
       "      <td>-0.041587</td>\n",
       "      <td>1.000000</td>\n",
       "      <td>-0.054173</td>\n",
       "      <td>-0.071580</td>\n",
       "    </tr>\n",
       "    <tr>\n",
       "      <th>amount_bin</th>\n",
       "      <td>-0.005874</td>\n",
       "      <td>-0.000881</td>\n",
       "      <td>0.000578</td>\n",
       "      <td>-0.002213</td>\n",
       "      <td>0.016253</td>\n",
       "      <td>0.553488</td>\n",
       "      <td>-0.054173</td>\n",
       "      <td>1.000000</td>\n",
       "      <td>0.515899</td>\n",
       "    </tr>\n",
       "    <tr>\n",
       "      <th>fraud</th>\n",
       "      <td>-0.011898</td>\n",
       "      <td>-0.000341</td>\n",
       "      <td>-0.000194</td>\n",
       "      <td>-0.001228</td>\n",
       "      <td>0.025575</td>\n",
       "      <td>0.489967</td>\n",
       "      <td>-0.071580</td>\n",
       "      <td>0.515899</td>\n",
       "      <td>1.000000</td>\n",
       "    </tr>\n",
       "  </tbody>\n",
       "</table>\n",
       "</div>"
      ],
      "text/plain": [
       "                        step  day_of_week  is_weekend       age    gender  \\\n",
       "step                1.000000     0.010020   -0.004615  0.001676  0.000294   \n",
       "day_of_week         0.010020     1.000000    0.786673 -0.000008  0.000494   \n",
       "is_weekend         -0.004615     0.786673    1.000000  0.000223  0.000230   \n",
       "age                 0.001676    -0.000008    0.000223  1.000000 -0.016650   \n",
       "gender              0.000294     0.000494    0.000230 -0.016650  1.000000   \n",
       "amount             -0.007961     0.000341    0.001262 -0.002570  0.013018   \n",
       "customer_txn_count  0.873345     0.008726   -0.004055  0.001627 -0.002662   \n",
       "amount_bin         -0.005874    -0.000881    0.000578 -0.002213  0.016253   \n",
       "fraud              -0.011898    -0.000341   -0.000194 -0.001228  0.025575   \n",
       "\n",
       "                      amount  customer_txn_count  amount_bin     fraud  \n",
       "step               -0.007961            0.873345   -0.005874 -0.011898  \n",
       "day_of_week         0.000341            0.008726   -0.000881 -0.000341  \n",
       "is_weekend          0.001262           -0.004055    0.000578 -0.000194  \n",
       "age                -0.002570            0.001627   -0.002213 -0.001228  \n",
       "gender              0.013018           -0.002662    0.016253  0.025575  \n",
       "amount              1.000000           -0.041587    0.553488  0.489967  \n",
       "customer_txn_count -0.041587            1.000000   -0.054173 -0.071580  \n",
       "amount_bin          0.553488           -0.054173    1.000000  0.515899  \n",
       "fraud               0.489967           -0.071580    0.515899  1.000000  "
      ]
     },
     "execution_count": 25,
     "metadata": {},
     "output_type": "execute_result"
    }
   ],
   "source": [
    "numeric_df = df.select_dtypes(include=['number'])\n",
    "\n",
    "numeric_df.corr()"
   ]
  },
  {
   "cell_type": "code",
   "execution_count": 26,
   "id": "193c7032",
   "metadata": {},
   "outputs": [
    {
     "data": {
      "text/plain": [
       "(594643, 14)"
      ]
     },
     "execution_count": 26,
     "metadata": {},
     "output_type": "execute_result"
    }
   ],
   "source": [
    "df.shape"
   ]
  },
  {
   "cell_type": "code",
   "execution_count": 27,
   "id": "73951f11",
   "metadata": {},
   "outputs": [
    {
     "data": {
      "text/html": [
       "<div>\n",
       "<style scoped>\n",
       "    .dataframe tbody tr th:only-of-type {\n",
       "        vertical-align: middle;\n",
       "    }\n",
       "\n",
       "    .dataframe tbody tr th {\n",
       "        vertical-align: top;\n",
       "    }\n",
       "\n",
       "    .dataframe thead th {\n",
       "        text-align: right;\n",
       "    }\n",
       "</style>\n",
       "<table border=\"1\" class=\"dataframe\">\n",
       "  <thead>\n",
       "    <tr style=\"text-align: right;\">\n",
       "      <th></th>\n",
       "      <th>step</th>\n",
       "      <th>day_of_week</th>\n",
       "      <th>is_weekend</th>\n",
       "      <th>age</th>\n",
       "      <th>gender</th>\n",
       "      <th>amount</th>\n",
       "      <th>customer_txn_count</th>\n",
       "      <th>amount_bin</th>\n",
       "      <th>fraud</th>\n",
       "    </tr>\n",
       "  </thead>\n",
       "  <tbody>\n",
       "    <tr>\n",
       "      <th>count</th>\n",
       "      <td>594643.000000</td>\n",
       "      <td>594643.000000</td>\n",
       "      <td>594643.000000</td>\n",
       "      <td>594643.000000</td>\n",
       "      <td>594643.000000</td>\n",
       "      <td>594643.000000</td>\n",
       "      <td>594643.000000</td>\n",
       "      <td>594643.00000</td>\n",
       "      <td>594643.000000</td>\n",
       "    </tr>\n",
       "    <tr>\n",
       "      <th>mean</th>\n",
       "      <td>94.986827</td>\n",
       "      <td>2.978363</td>\n",
       "      <td>0.278562</td>\n",
       "      <td>38.732957</td>\n",
       "      <td>0.545815</td>\n",
       "      <td>37.890135</td>\n",
       "      <td>79.134439</td>\n",
       "      <td>0.03564</td>\n",
       "      <td>0.012108</td>\n",
       "    </tr>\n",
       "    <tr>\n",
       "      <th>std</th>\n",
       "      <td>51.053632</td>\n",
       "      <td>1.992285</td>\n",
       "      <td>0.448292</td>\n",
       "      <td>11.387454</td>\n",
       "      <td>0.497897</td>\n",
       "      <td>111.402831</td>\n",
       "      <td>48.305544</td>\n",
       "      <td>0.19109</td>\n",
       "      <td>0.109369</td>\n",
       "    </tr>\n",
       "    <tr>\n",
       "      <th>min</th>\n",
       "      <td>0.000000</td>\n",
       "      <td>0.000000</td>\n",
       "      <td>0.000000</td>\n",
       "      <td>20.000000</td>\n",
       "      <td>0.000000</td>\n",
       "      <td>0.000000</td>\n",
       "      <td>1.000000</td>\n",
       "      <td>0.00000</td>\n",
       "      <td>0.000000</td>\n",
       "    </tr>\n",
       "    <tr>\n",
       "      <th>25%</th>\n",
       "      <td>52.000000</td>\n",
       "      <td>1.000000</td>\n",
       "      <td>0.000000</td>\n",
       "      <td>30.000000</td>\n",
       "      <td>0.000000</td>\n",
       "      <td>13.740000</td>\n",
       "      <td>37.000000</td>\n",
       "      <td>0.00000</td>\n",
       "      <td>0.000000</td>\n",
       "    </tr>\n",
       "    <tr>\n",
       "      <th>50%</th>\n",
       "      <td>97.000000</td>\n",
       "      <td>3.000000</td>\n",
       "      <td>0.000000</td>\n",
       "      <td>40.000000</td>\n",
       "      <td>1.000000</td>\n",
       "      <td>26.900000</td>\n",
       "      <td>76.000000</td>\n",
       "      <td>0.00000</td>\n",
       "      <td>0.000000</td>\n",
       "    </tr>\n",
       "    <tr>\n",
       "      <th>75%</th>\n",
       "      <td>139.000000</td>\n",
       "      <td>5.000000</td>\n",
       "      <td>1.000000</td>\n",
       "      <td>50.000000</td>\n",
       "      <td>1.000000</td>\n",
       "      <td>42.540000</td>\n",
       "      <td>119.000000</td>\n",
       "      <td>0.00000</td>\n",
       "      <td>0.000000</td>\n",
       "    </tr>\n",
       "    <tr>\n",
       "      <th>max</th>\n",
       "      <td>179.000000</td>\n",
       "      <td>6.000000</td>\n",
       "      <td>1.000000</td>\n",
       "      <td>60.000000</td>\n",
       "      <td>1.000000</td>\n",
       "      <td>8329.960000</td>\n",
       "      <td>265.000000</td>\n",
       "      <td>2.00000</td>\n",
       "      <td>1.000000</td>\n",
       "    </tr>\n",
       "  </tbody>\n",
       "</table>\n",
       "</div>"
      ],
      "text/plain": [
       "                step    day_of_week     is_weekend            age  \\\n",
       "count  594643.000000  594643.000000  594643.000000  594643.000000   \n",
       "mean       94.986827       2.978363       0.278562      38.732957   \n",
       "std        51.053632       1.992285       0.448292      11.387454   \n",
       "min         0.000000       0.000000       0.000000      20.000000   \n",
       "25%        52.000000       1.000000       0.000000      30.000000   \n",
       "50%        97.000000       3.000000       0.000000      40.000000   \n",
       "75%       139.000000       5.000000       1.000000      50.000000   \n",
       "max       179.000000       6.000000       1.000000      60.000000   \n",
       "\n",
       "              gender         amount  customer_txn_count    amount_bin  \\\n",
       "count  594643.000000  594643.000000       594643.000000  594643.00000   \n",
       "mean        0.545815      37.890135           79.134439       0.03564   \n",
       "std         0.497897     111.402831           48.305544       0.19109   \n",
       "min         0.000000       0.000000            1.000000       0.00000   \n",
       "25%         0.000000      13.740000           37.000000       0.00000   \n",
       "50%         1.000000      26.900000           76.000000       0.00000   \n",
       "75%         1.000000      42.540000          119.000000       0.00000   \n",
       "max         1.000000    8329.960000          265.000000       2.00000   \n",
       "\n",
       "               fraud  \n",
       "count  594643.000000  \n",
       "mean        0.012108  \n",
       "std         0.109369  \n",
       "min         0.000000  \n",
       "25%         0.000000  \n",
       "50%         0.000000  \n",
       "75%         0.000000  \n",
       "max         1.000000  "
      ]
     },
     "execution_count": 27,
     "metadata": {},
     "output_type": "execute_result"
    }
   ],
   "source": [
    "df.describe()"
   ]
  },
  {
   "cell_type": "code",
   "execution_count": 28,
   "id": "9524847c",
   "metadata": {},
   "outputs": [
    {
     "name": "stdout",
     "output_type": "stream",
     "text": [
      "[0, 1, 2]\n",
      "[\"'28007'\"]\n",
      "[\"'28007'\"]\n",
      "[\"'es_transportation'\", \"'es_health'\", \"'es_otherservices'\", \"'es_food'\", \"'es_hotelservices'\", \"'es_barsandrestaurants'\", \"'es_tech'\", \"'es_sportsandtoys'\", \"'es_wellnessandbeauty'\", \"'es_hyper'\", \"'es_fashion'\", \"'es_home'\", \"'es_contents'\", \"'es_travel'\", \"'es_leisure'\"]\n",
      "[0, 1]\n"
     ]
    }
   ],
   "source": [
    "print(df['amount_bin'].unique().tolist())\n",
    "print(df['zipcodeOri'].unique().tolist())\n",
    "print(df['zipMerchant'].unique().tolist())\n",
    "print(df['category'].unique().tolist())\n",
    "print(df['fraud'].unique().tolist())\n",
    "\n",
    "\n",
    "\n"
   ]
  },
  {
   "cell_type": "code",
   "execution_count": 29,
   "id": "4fa05d30",
   "metadata": {},
   "outputs": [
    {
     "data": {
      "image/png": "[encoded data removed]",
      "text/plain": [
       "<Figure size 1200x800 with 1 Axes>"
      ]
     },
     "metadata": {},
     "output_type": "display_data"
    }
   ],
   "source": [
    "plt.figure(figsize=(12, 8))\n",
    "sns.boxplot(data=df.select_dtypes(include=[np.number]), orient='h')\n",
    "\n",
    "# إضافة العنوان والتسميات\n",
    "plt.title('Box Plot for Numerical Columns', fontsize=16)\n",
    "plt.xlabel('Value', fontsize=5)\n",
    "plt.ylabel('Columns', fontsize=5)\n",
    "\n",
    "# عرض الرسم\n",
    "plt.show()"
   ]
  },
  {
   "cell_type": "code",
   "execution_count": 30,
   "id": "e8fc2590",
   "metadata": {},
   "outputs": [],
   "source": [
    "df['amount'] = np.log1p(df['amount'])  # log(amount + 1)\n"
   ]
  },
  {
   "cell_type": "code",
   "execution_count": 31,
   "id": "8da59d3a",
   "metadata": {},
   "outputs": [
    {
     "data": {
      "image/png": "[encoded data removed]",
      "text/plain": [
       "<Figure size 1200x800 with 1 Axes>"
      ]
     },
     "metadata": {},
     "output_type": "display_data"
    }
   ],
   "source": [
    "plt.figure(figsize=(12, 8))\n",
    "sns.boxplot(data=df.select_dtypes(include=[np.number]), orient='h')\n",
    "\n",
    "# إضافة العنوان والتسميات\n",
    "plt.title('Box Plot for Numerical Columns', fontsize=16)\n",
    "plt.xlabel('Value', fontsize=5)\n",
    "plt.ylabel('Columns', fontsize=5)\n",
    "\n",
    "# عرض الرسم\n",
    "plt.show()"
   ]
  },
  {
   "cell_type": "code",
   "execution_count": 32,
   "id": "89ecf83d",
   "metadata": {},
   "outputs": [
    {
     "name": "stderr",
     "output_type": "stream",
     "text": [
      "D:\\app\\XboxGames\\New folder\\Lib\\site-packages\\seaborn\\axisgrid.py:118: UserWarning: The figure layout has changed to tight\n",
      "  self._figure.tight_layout(*args, **kwargs)\n"
     ]
    },
    {
     "data": {
      "image/png": "[encoded data removed]",
      "text/plain": [
       "<Figure size 600x600 with 4 Axes>"
      ]
     },
     "metadata": {},
     "output_type": "display_data"
    }
   ],
   "source": [
    "g = sns.FacetGrid(df, col='fraud', row='gender', margin_titles=True)\n",
    "g = g.map(plt.hist, 'customer_txn_count')\n",
    "\n",
    "\n",
    "plt.subplots_adjust(hspace=0.2, wspace=0.2)  "
   ]
  },
  {
   "cell_type": "code",
   "execution_count": 33,
   "id": "f339296a",
   "metadata": {},
   "outputs": [
    {
     "data": {
      "text/plain": [
       "<Axes: ylabel='count'>"
      ]
     },
     "execution_count": 33,
     "metadata": {},
     "output_type": "execute_result"
    },
    {
     "data": {
      "image/png": "[encoded data removed]",
      "text/plain": [
       "<Figure size 640x480 with 1 Axes>"
      ]
     },
     "metadata": {},
     "output_type": "display_data"
    }
   ],
   "source": [
    "df['fraud'].value_counts().plot.pie(autopct='%1.1f%%', labels=['Legit', 'Fraud'], colors=['green', 'red'])\n"
   ]
  },
  {
   "cell_type": "code",
   "execution_count": 34,
   "id": "dcf85782",
   "metadata": {},
   "outputs": [
    {
     "data": {
      "text/plain": [
       "<Axes: xlabel='fraud', ylabel='amount'>"
      ]
     },
     "execution_count": 34,
     "metadata": {},
     "output_type": "execute_result"
    },
    {
     "data": {
      "image/png": "[encoded data removed]",
      "text/plain": [
       "<Figure size 640x480 with 1 Axes>"
      ]
     },
     "metadata": {},
     "output_type": "display_data"
    }
   ],
   "source": [
    "sns.boxplot(data=df, x='fraud', y='amount')\n"
   ]
  },
  {
   "cell_type": "code",
   "execution_count": 35,
   "id": "960f4ee6",
   "metadata": {},
   "outputs": [
    {
     "data": {
      "text/plain": [
       "<Axes: xlabel='amount', ylabel='Density'>"
      ]
     },
     "execution_count": 35,
     "metadata": {},
     "output_type": "execute_result"
    },
    {
     "data": {
      "image/png": "[encoded data removed]",
      "text/plain": [
       "<Figure size 640x480 with 1 Axes>"
      ]
     },
     "metadata": {},
     "output_type": "display_data"
    }
   ],
   "source": [
    "sns.kdeplot(data=df, x='amount', hue='fraud', fill=True)\n"
   ]
  },
  {
   "cell_type": "code",
   "execution_count": 36,
   "id": "2885671f",
   "metadata": {},
   "outputs": [
    {
     "data": {
      "text/plain": [
       "<Axes: xlabel='category'>"
      ]
     },
     "execution_count": 36,
     "metadata": {},
     "output_type": "execute_result"
    },
    {
     "data": {
      "image/png": "[encoded data removed]",
      "text/plain": [
       "<Figure size 640x480 with 1 Axes>"
      ]
     },
     "metadata": {},
     "output_type": "display_data"
    }
   ],
   "source": [
    "fraud_by_cat = df.groupby('category')['fraud'].mean().sort_values(ascending=False)\n",
    "fraud_by_cat.plot(kind='bar', color='orange')\n"
   ]
  },
  {
   "cell_type": "code",
   "execution_count": 37,
   "id": "f86e8177",
   "metadata": {},
   "outputs": [
    {
     "data": {
      "text/plain": [
       "<Axes: xlabel='step'>"
      ]
     },
     "execution_count": 37,
     "metadata": {},
     "output_type": "execute_result"
    },
    {
     "data": {
      "image/png": "[encoded data removed]",
      "text/plain": [
       "<Figure size 640x480 with 1 Axes>"
      ]
     },
     "metadata": {},
     "output_type": "display_data"
    }
   ],
   "source": [
    "df.groupby('step')['fraud'].sum().rolling(5).mean().plot()\n"
   ]
  },
  {
   "cell_type": "code",
   "execution_count": 38,
   "id": "0bdf7692",
   "metadata": {},
   "outputs": [],
   "source": [
    "from sklearn.model_selection import train_test_split\n",
    "from sklearn.ensemble import RandomForestClassifier\n",
    "from sklearn.metrics import classification_report, confusion_matrix"
   ]
  },
  {
   "cell_type": "code",
   "execution_count": 42,
   "id": "b2039cb0",
   "metadata": {},
   "outputs": [],
   "source": [
    "features = [\n",
    "    'amount',\n",
    "    'is_weekend',\n",
    "    'gender',\n",
    "    'age',\n",
    "    'customer_txn_count',\n",
    "    'category',\n",
    "    'day_of_week'\n",
    "]\n",
    "\n",
    "df = df.dropna(subset=features + ['fraud'])\n",
    "\n",
    "X = df[features]\n",
    "y = df['fraud']\n",
    "df['category'] = df['category'].astype(str).str.replace(\"'\", \"\").str.strip()\n",
    "df['category'] = pd.factorize(df['category'])[0]\n",
    "\n"
   ]
  },
  {
   "cell_type": "code",
   "execution_count": 43,
   "id": "c33b2bb9",
   "metadata": {},
   "outputs": [],
   "source": [
    "X_train, X_test, y_train, y_test = train_test_split(\n",
    "    X, y, test_size=0.2, stratify=y, random_state=42\n",
    ")\n",
    "\n"
   ]
  },
  {
   "cell_type": "code",
   "execution_count": 44,
   "id": "b4593d56",
   "metadata": {},
   "outputs": [
    {
     "data": {
      "text/html": [
       "<style>#sk-container-id-1 {color: black;}#sk-container-id-1 pre{padding: 0;}#sk-container-id-1 div.sk-toggleable {background-color: white;}#sk-container-id-1 label.sk-toggleable__label {cursor: pointer;display: block;width: 100%;margin-bottom: 0;padding: 0.3em;box-sizing: border-box;text-align: center;}#sk-container-id-1 label.sk-toggleable__label-arrow:before {content: \"▸\";float: left;margin-right: 0.25em;color: #696969;}#sk-container-id-1 label.sk-toggleable__label-arrow:hover:before {color: black;}#sk-container-id-1 div.sk-estimator:hover label.sk-toggleable__label-arrow:before {color: black;}#sk-container-id-1 div.sk-toggleable__content {max-height: 0;max-width: 0;overflow: hidden;text-align: left;background-color: #f0f8ff;}#sk-container-id-1 div.sk-toggleable__content pre {margin: 0.2em;color: black;border-radius: 0.25em;background-color: #f0f8ff;}#sk-container-id-1 input.sk-toggleable__control:checked~div.sk-toggleable__content {max-height: 200px;max-width: 100%;overflow: auto;}#sk-container-id-1 input.sk-toggleable__control:checked~label.sk-toggleable__label-arrow:before {content: \"▾\";}#sk-container-id-1 div.sk-estimator input.sk-toggleable__control:checked~label.sk-toggleable__label {background-color: #d4ebff;}#sk-container-id-1 div.sk-label input.sk-toggleable__control:checked~label.sk-toggleable__label {background-color: #d4ebff;}#sk-container-id-1 input.sk-hidden--visually {border: 0;clip: rect(1px 1px 1px 1px);clip: rect(1px, 1px, 1px, 1px);height: 1px;margin: -1px;overflow: hidden;padding: 0;position: absolute;width: 1px;}#sk-container-id-1 div.sk-estimator {font-family: monospace;background-color: #f0f8ff;border: 1px dotted black;border-radius: 0.25em;box-sizing: border-box;margin-bottom: 0.5em;}#sk-container-id-1 div.sk-estimator:hover {background-color: #d4ebff;}#sk-container-id-1 div.sk-parallel-item::after {content: \"\";width: 100%;border-bottom: 1px solid gray;flex-grow: 1;}#sk-container-id-1 div.sk-label:hover label.sk-toggleable__label {background-color: #d4ebff;}#sk-container-id-1 div.sk-serial::before {content: \"\";position: absolute;border-left: 1px solid gray;box-sizing: border-box;top: 0;bottom: 0;left: 50%;z-index: 0;}#sk-container-id-1 div.sk-serial {display: flex;flex-direction: column;align-items: center;background-color: white;padding-right: 0.2em;padding-left: 0.2em;position: relative;}#sk-container-id-1 div.sk-item {position: relative;z-index: 1;}#sk-container-id-1 div.sk-parallel {display: flex;align-items: stretch;justify-content: center;background-color: white;position: relative;}#sk-container-id-1 div.sk-item::before, #sk-container-id-1 div.sk-parallel-item::before {content: \"\";position: absolute;border-left: 1px solid gray;box-sizing: border-box;top: 0;bottom: 0;left: 50%;z-index: -1;}#sk-container-id-1 div.sk-parallel-item {display: flex;flex-direction: column;z-index: 1;position: relative;background-color: white;}#sk-container-id-1 div.sk-parallel-item:first-child::after {align-self: flex-end;width: 50%;}#sk-container-id-1 div.sk-parallel-item:last-child::after {align-self: flex-start;width: 50%;}#sk-container-id-1 div.sk-parallel-item:only-child::after {width: 0;}#sk-container-id-1 div.sk-dashed-wrapped {border: 1px dashed gray;margin: 0 0.4em 0.5em 0.4em;box-sizing: border-box;padding-bottom: 0.4em;background-color: white;}#sk-container-id-1 div.sk-label label {font-family: monospace;font-weight: bold;display: inline-block;line-height: 1.2em;}#sk-container-id-1 div.sk-label-container {text-align: center;}#sk-container-id-1 div.sk-container {/* jupyter's `normalize.less` sets `[hidden] { display: none; }` but bootstrap.min.css set `[hidden] { display: none !important; }` so we also need the `!important` here to be able to override the default hidden behavior on the sphinx rendered scikit-learn.org. See: https://github.com/scikit-learn/scikit-learn/issues/21755 */display: inline-block !important;position: relative;}#sk-container-id-1 div.sk-text-repr-fallback {display: none;}</style><div id=\"sk-container-id-1\" class=\"sk-top-container\"><div class=\"sk-text-repr-fallback\"><pre>RandomForestClassifier(class_weight=&#x27;balanced&#x27;, random_state=42)</pre><b>In a Jupyter environment, please rerun this cell to show the HTML representation or trust the notebook. <br />On GitHub, the HTML representation is unable to render, please try loading this page with nbviewer.org.</b></div><div class=\"sk-container\" hidden><div class=\"sk-item\"><div class=\"sk-estimator sk-toggleable\"><input class=\"sk-toggleable__control sk-hidden--visually\" id=\"sk-estimator-id-1\" type=\"checkbox\" checked><label for=\"sk-estimator-id-1\" class=\"sk-toggleable__label sk-toggleable__label-arrow\">RandomForestClassifier</label><div class=\"sk-toggleable__content\"><pre>RandomForestClassifier(class_weight=&#x27;balanced&#x27;, random_state=42)</pre></div></div></div></div></div>"
      ],
      "text/plain": [
       "RandomForestClassifier(class_weight='balanced', random_state=42)"
      ]
     },
     "execution_count": 44,
     "metadata": {},
     "output_type": "execute_result"
    }
   ],
   "source": [
    "model = RandomForestClassifier(\n",
    "    n_estimators=100,\n",
    "    random_state=42,\n",
    "    class_weight='balanced'  # مهم عشان الداتا غير متوازنة\n",
    ")\n",
    "model.fit(X_train, y_train)\n"
   ]
  },
  {
   "cell_type": "code",
   "execution_count": 45,
   "id": "0575ee65",
   "metadata": {},
   "outputs": [
    {
     "name": "stdout",
     "output_type": "stream",
     "text": [
      "Classification Report:\n",
      "               precision    recall  f1-score   support\n",
      "\n",
      "           0       1.00      1.00      1.00    117489\n",
      "           1       0.86      0.62      0.72      1440\n",
      "\n",
      "    accuracy                           0.99    118929\n",
      "   macro avg       0.93      0.81      0.86    118929\n",
      "weighted avg       0.99      0.99      0.99    118929\n",
      "\n",
      "Confusion Matrix:\n",
      " [[117340    149]\n",
      " [   544    896]]\n"
     ]
    }
   ],
   "source": [
    "y_pred = model.predict(X_test)\n",
    "\n",
    "print(\"Classification Report:\\n\", classification_report(y_test, y_pred))\n",
    "print(\"Confusion Matrix:\\n\", confusion_matrix(y_test, y_pred))\n"
   ]
  },
  {
   "cell_type": "code",
   "execution_count": 46,
   "id": "b2c1293d",
   "metadata": {},
   "outputs": [
    {
     "data": {
      "image/png": "[encoded data removed]",
      "text/plain": [
       "<Figure size 800x500 with 1 Axes>"
      ]
     },
     "metadata": {},
     "output_type": "display_data"
    }
   ],
   "source": [
    "\n",
    "\n",
    "importances = model.feature_importances_\n",
    "feat_imp = pd.Series(importances, index=features).sort_values(ascending=False)\n",
    "\n",
    "plt.figure(figsize=(8,5))\n",
    "sns.barplot(x=feat_imp.values, y=feat_imp.index, palette='viridis')\n",
    "plt.title(\"Feature Importance in Random Forest\")\n",
    "plt.xlabel(\"Importance\")\n",
    "plt.ylabel(\"Feature\")\n",
    "plt.show()\n"
   ]
  },
  {
   "cell_type": "code",
   "execution_count": 50,
   "id": "4e6bc2a3",
   "metadata": {},
   "outputs": [
    {
     "data": {
      "text/plain": [
       "['fraud_model.pkl']"
      ]
     },
     "execution_count": 50,
     "metadata": {},
     "output_type": "execute_result"
    }
   ],
   "source": [
    "import joblib\n",
    "\n",
    "joblib.dump(model, \"fraud_model.pkl\")\n"
   ]
  },
  {
   "cell_type": "code",
   "execution_count": null,
   "id": "61b216aa",
   "metadata": {},
   "outputs": [],
   "source": [
    "df.to_csv('D:/AI & data/data sets/Credit Card Fraud Detection.csv', \n",
    "                   index=False, \n",
    "                   encoding='utf-8-sig')"
   ]
  },
  {
   "cell_type": "code",
   "execution_count": 53,
   "id": "545d6d15",
   "metadata": {},
   "outputs": [],
   "source": [
    "import pickle\n",
    "\n",
    "file_name = \"credit_card_fraud_model.sav\"\n",
    "\n",
    "pickle.dump(model, open(file_name, 'wb'))\n"
   ]
  },
  {
   "cell_type": "code",
   "execution_count": null,
   "id": "9fae32c9",
   "metadata": {},
   "outputs": [],
   "source": []
  },
  {
   "cell_type": "code",
   "execution_count": null,
   "id": "757330a6",
   "metadata": {},
   "outputs": [],
   "source": []
  }
 ],
 "metadata": {
  "kernelspec": {
   "display_name": "Python 3 (ipykernel)",
   "language": "python",
   "name": "python3"
  },
  "language_info": {
   "codemirror_mode": {
    "name": "ipython",
    "version": 3
   },
   "file_extension": ".py",
   "mimetype": "text/x-python",
   "name": "python",
   "nbconvert_exporter": "python",
   "pygments_lexer": "ipython3",
   "version": "3.11.5"
  }
 },
 "nbformat": 4,
 "nbformat_minor": 5
}
